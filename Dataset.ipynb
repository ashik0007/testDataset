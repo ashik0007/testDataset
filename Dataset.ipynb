{
  "nbformat": 4,
  "nbformat_minor": 0,
  "metadata": {
    "colab": {
      "name": "Dataset.ipynb",
      "provenance": [],
      "authorship_tag": "ABX9TyMTRgfInLyDOKbxAqNUspy6",
      "include_colab_link": true
    },
    "kernelspec": {
      "name": "python3",
      "display_name": "Python 3"
    }
  },
  "cells": [
    {
      "cell_type": "markdown",
      "metadata": {
        "id": "view-in-github",
        "colab_type": "text"
      },
      "source": [
        "<a href=\"https://colab.research.google.com/github/ashik0007/testDataset/blob/master/Dataset.ipynb\" target=\"_parent\"><img src=\"https://colab.research.google.com/assets/colab-badge.svg\" alt=\"Open In Colab\"/></a>"
      ]
    },
    {
      "cell_type": "code",
      "metadata": {
        "id": "JjHLveTzuXl0",
        "colab_type": "code",
        "colab": {}
      },
      "source": [
        "import numpy as np"
      ],
      "execution_count": 0,
      "outputs": []
    },
    {
      "cell_type": "code",
      "metadata": {
        "id": "ODDwrpMLuaHH",
        "colab_type": "code",
        "colab": {
          "base_uri": "https://localhost:8080/",
          "height": 185
        },
        "outputId": "8c589523-c092-46eb-fc43-0faad2ad1e28"
      },
      "source": [
        "m = 10000\n",
        "X = np.random.randint(low = 0, high = 255, size = (12288,m))\n",
        "y = np.random.randint(low = 0, high = 2, size = (1,m))\n",
        "print(X)\n",
        "print(np.shape(X))\n",
        "print(y)\n",
        "print(np.shape(y))"
      ],
      "execution_count": 31,
      "outputs": [
        {
          "output_type": "stream",
          "text": [
            "[[ 26 164  75 ...  40 177 213]\n",
            " [ 18  68  22 ...  23 167  75]\n",
            " [251 241 249 ...  50  95  82]\n",
            " ...\n",
            " [246 217 238 ...   8 160 112]\n",
            " [168 128 117 ... 184 113  70]\n",
            " [107 140  28 ...  82 139 122]]\n",
            "(12288, 10000)\n",
            "[[0 1 0 ... 1 1 1]]\n",
            "(1, 10000)\n"
          ],
          "name": "stdout"
        }
      ]
    },
    {
      "cell_type": "code",
      "metadata": {
        "id": "dBkdeCTmvpvO",
        "colab_type": "code",
        "colab": {}
      },
      "source": [
        ""
      ],
      "execution_count": 0,
      "outputs": []
    }
  ]
}